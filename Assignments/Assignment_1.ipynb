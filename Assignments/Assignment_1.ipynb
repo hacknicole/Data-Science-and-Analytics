{
  "nbformat": 4,
  "nbformat_minor": 0,
  "metadata": {
    "colab": {
      "provenance": []
    },
    "kernelspec": {
      "name": "python3",
      "display_name": "Python 3"
    },
    "language_info": {
      "name": "python"
    }
  },
  "cells": [
    {
      "cell_type": "markdown",
      "source": [
        "##**Hands-On-Practice Problem 1**"
      ],
      "metadata": {
        "id": "lBSBipB0hbhs"
      }
    },
    {
      "cell_type": "markdown",
      "source": [
        "1. Write a Python program which accepts the radius of a circle from the user\n",
        "and compute the area."
      ],
      "metadata": {
        "id": "A4EMhG15hhkm"
      }
    },
    {
      "cell_type": "code",
      "source": [
        "import math\n",
        "rad = int(input(\"Enter the radius: \"))\n",
        "area = math.pi * rad**2\n",
        "print(\"Area of Circle is \",area)"
      ],
      "metadata": {
        "colab": {
          "base_uri": "https://localhost:8080/"
        },
        "id": "rXItSe7ULHbN",
        "outputId": "a5780ff8-5013-494c-9e1d-3384fa543115"
      },
      "execution_count": null,
      "outputs": [
        {
          "output_type": "stream",
          "name": "stdout",
          "text": [
            "Enter the radius: 3\n",
            "Area of Circle is  28.274333882308138\n"
          ]
        }
      ]
    },
    {
      "cell_type": "markdown",
      "source": [
        "2. Write a Python Program to accept the details of a student like name, roll\n",
        "number and mark and display it."
      ],
      "metadata": {
        "id": "m1jAh3Kbi3xc"
      }
    },
    {
      "cell_type": "code",
      "source": [
        "name = str(input(\"Enter the name: \"))\n",
        "rollno = int(input(\"Enter the roll number: \"))\n",
        "mark = int(input(\"Enter the mark: \"))\n",
        "\n",
        "print(\"Name: \",name)\n",
        "print(\"Roll No: \",rollno)\n",
        "print(\"Mark: \",mark)"
      ],
      "metadata": {
        "colab": {
          "base_uri": "https://localhost:8080/"
        },
        "id": "H4uKM5g5i7Dj",
        "outputId": "6ebb8324-bace-4fbf-9fa3-641dd4425a4a"
      },
      "execution_count": null,
      "outputs": [
        {
          "output_type": "stream",
          "name": "stdout",
          "text": [
            "Enter the name: Anisha\n",
            "Enter the roll number: 21\n",
            "Enter the mark: 78\n",
            "Name:  Anisha\n",
            "Roll No:  21\n",
            "Mark:  78\n"
          ]
        }
      ]
    },
    {
      "cell_type": "markdown",
      "source": [
        "3. Write a Python program to get the largest number from a list."
      ],
      "metadata": {
        "id": "LXhtClI52Pru"
      }
    },
    {
      "cell_type": "code",
      "source": [
        "list = []\n",
        "for num in range(0,4):\n",
        "  num = int(input(\"Enter a number: \"))\n",
        "  list.append(num)\n",
        "print(list)\n",
        "m = max(list)\n",
        "print(m,\" is the largest number\")"
      ],
      "metadata": {
        "colab": {
          "base_uri": "https://localhost:8080/"
        },
        "id": "mOlASeTR2Uqk",
        "outputId": "6919b7d2-1685-45c5-da4e-b41023b40c54"
      },
      "execution_count": null,
      "outputs": [
        {
          "output_type": "stream",
          "name": "stdout",
          "text": [
            "Enter a number: 12\n",
            "Enter a number: 3\n",
            "Enter a number: 47\n",
            "Enter a number: 10\n",
            "[12, 3, 47, 10]\n",
            "47  is the largest number\n"
          ]
        }
      ]
    },
    {
      "cell_type": "markdown",
      "source": [
        "4. Given a range of first 10 numbers, write a Python program to iterate from\n",
        "start number to the end number and print the sum of the current number\n",
        "and previous number."
      ],
      "metadata": {
        "id": "Vs5A2vNN46Qy"
      }
    },
    {
      "cell_type": "code",
      "source": [
        "prev_num = 0\n",
        "list=[]\n",
        "print(\"Enter numbers from 1 to 10:\")\n",
        "for k in range(1,11):\n",
        "  k = int(input(\"Enter number: \"))\n",
        "  list.append(k)\n",
        "print(list)\n",
        "\n",
        "for i in list:\n",
        "  curr_num = prev_num + 1\n",
        "  sum = prev_num + curr_num\n",
        "  print(\"Current Number: \",curr_num,\" \",\"Previous Number: \",prev_num,\" \",\"Sum: \",sum)\n",
        "  prev_num = curr_num"
      ],
      "metadata": {
        "colab": {
          "base_uri": "https://localhost:8080/"
        },
        "id": "FnGi1LAM5BGA",
        "outputId": "97ccd90a-852d-4603-a280-406668b6c794"
      },
      "execution_count": null,
      "outputs": [
        {
          "output_type": "stream",
          "name": "stdout",
          "text": [
            "Enter numbers from 1 to 10:\n",
            "Enter number: 1\n",
            "Enter number: 2\n",
            "Enter number: 3\n",
            "Enter number: 4\n",
            "Enter number: 5\n",
            "Enter number: 6\n",
            "Enter number: 7\n",
            "Enter number: 8\n",
            "Enter number: 9\n",
            "Enter number: 10\n",
            "[1, 2, 3, 4, 5, 6, 7, 8, 9, 10]\n",
            "Current Number:  1   Previous Number:  0   Sum:  1\n",
            "Current Number:  2   Previous Number:  1   Sum:  3\n",
            "Current Number:  3   Previous Number:  2   Sum:  5\n",
            "Current Number:  4   Previous Number:  3   Sum:  7\n",
            "Current Number:  5   Previous Number:  4   Sum:  9\n",
            "Current Number:  6   Previous Number:  5   Sum:  11\n",
            "Current Number:  7   Previous Number:  6   Sum:  13\n",
            "Current Number:  8   Previous Number:  7   Sum:  15\n",
            "Current Number:  9   Previous Number:  8   Sum:  17\n",
            "Current Number:  10   Previous Number:  9   Sum:  19\n"
          ]
        }
      ]
    },
    {
      "cell_type": "markdown",
      "source": [
        "5. Write a Python program to print only those numbers which are divisible\n",
        "of 5."
      ],
      "metadata": {
        "id": "Z_QG8NalMRFI"
      }
    },
    {
      "cell_type": "code",
      "source": [
        "list = []\n",
        "for num in range(0,5):\n",
        "  num = int(input(\"Enter Number: \"))\n",
        "  list.append(num)\n",
        "print(list)\n",
        "\n",
        "for number in list:\n",
        "  if number % 5 == 0:\n",
        "    print(number,end=\" \")"
      ],
      "metadata": {
        "colab": {
          "base_uri": "https://localhost:8080/"
        },
        "id": "eQE6ExsqctAB",
        "outputId": "c5f189ca-e002-40ae-d90c-24c40cd707b5"
      },
      "execution_count": null,
      "outputs": [
        {
          "output_type": "stream",
          "name": "stdout",
          "text": [
            "Enter Number: 10\n",
            "Enter Number: 20\n",
            "Enter Number: 33\n",
            "Enter Number: 46\n",
            "Enter Number: 55\n",
            "[10, 20, 33, 46, 55]\n",
            "10 20 55 "
          ]
        }
      ]
    },
    {
      "cell_type": "markdown",
      "source": [
        "6. Write a Python program to check whether a number is prime or not."
      ],
      "metadata": {
        "id": "68Kh3cEQd7Yn"
      }
    },
    {
      "cell_type": "code",
      "source": [
        "num = int(input(\"Enter the number: \"))\n",
        "if num > 1:\n",
        "    for i in range(2, int(num/2)+1):\n",
        "        if (num % i) == 0:\n",
        "            print(num, \"is not a prime number\")\n",
        "            break\n",
        "    else:\n",
        "        print(num, \"is a prime number\")"
      ],
      "metadata": {
        "colab": {
          "base_uri": "https://localhost:8080/"
        },
        "id": "IloGNnJId8mi",
        "outputId": "732668b2-92ad-4809-d9be-9faff229581a"
      },
      "execution_count": null,
      "outputs": [
        {
          "output_type": "stream",
          "name": "stdout",
          "text": [
            "Enter the number: 3\n",
            "3 is a prime number\n"
          ]
        }
      ]
    },
    {
      "cell_type": "markdown",
      "source": [
        "7. Write a Python program to reverse a list using for loop."
      ],
      "metadata": {
        "id": "e5_wy5Vshfsm"
      }
    },
    {
      "cell_type": "code",
      "source": [
        "num = [10,40,30,70]\n",
        "print(num)\n",
        "\n",
        "rev_list = []\n",
        "for i in range(len(num)-1,-1,-1):\n",
        "  rev_list.append(num[i])\n",
        "print(rev_list)"
      ],
      "metadata": {
        "colab": {
          "base_uri": "https://localhost:8080/"
        },
        "id": "ZEjAgZWIhguJ",
        "outputId": "e6478d33-c3c5-423d-a726-b323c2f37601"
      },
      "execution_count": null,
      "outputs": [
        {
          "output_type": "stream",
          "name": "stdout",
          "text": [
            "[10, 40, 30, 70]\n",
            "[70, 30, 40, 10]\n"
          ]
        }
      ]
    },
    {
      "cell_type": "markdown",
      "source": [
        "8. Write a Python program to print the following pattern."
      ],
      "metadata": {
        "id": "ixIiq4k2lJFP"
      }
    },
    {
      "cell_type": "code",
      "source": [
        "n = int(input(\"Enter number: \"))\n",
        "for i in range(0,n):\n",
        "  for j in range(0, i+1):\n",
        "    print(\"* \",end=\"\")\n",
        "  print(\"\\r\")"
      ],
      "metadata": {
        "colab": {
          "base_uri": "https://localhost:8080/"
        },
        "id": "3bEm0YVClOUw",
        "outputId": "97f9c86a-5e9c-444c-87d5-0b1d7c1817c1"
      },
      "execution_count": null,
      "outputs": [
        {
          "output_type": "stream",
          "name": "stdout",
          "text": [
            "Enter number: 4\n",
            "* \n",
            "* * \n",
            "* * * \n",
            "* * * * \n"
          ]
        }
      ]
    },
    {
      "cell_type": "markdown",
      "source": [
        "9. Write a Python program to find the maximum of three numbers"
      ],
      "metadata": {
        "id": "tmpdx5tmnfsH"
      }
    },
    {
      "cell_type": "code",
      "source": [
        "list = []\n",
        "for num in range(0,3):\n",
        "  num = int(input(\"Enter number: \"))\n",
        "  list.append(num)\n",
        "print(list)\n",
        "\n",
        "max_num = max(list)\n",
        "print(max_num)"
      ],
      "metadata": {
        "colab": {
          "base_uri": "https://localhost:8080/"
        },
        "id": "4CkWllsNnyPa",
        "outputId": "1234b917-5c76-4aa8-c5c6-0eb7e7978227"
      },
      "execution_count": null,
      "outputs": [
        {
          "output_type": "stream",
          "name": "stdout",
          "text": [
            "Enter number: 34\n",
            "Enter number: 12\n",
            "Enter number: 7\n",
            "[34, 12, 7]\n",
            "34\n"
          ]
        }
      ]
    },
    {
      "cell_type": "markdown",
      "source": [
        "10. Write a Python program to construct the following pattern, using a\n",
        "nested for loop."
      ],
      "metadata": {
        "id": "Y4YMAN2rpx76"
      }
    },
    {
      "cell_type": "code",
      "source": [
        "n = int(input(\"Enter number: \"))\n",
        "for i in range(0,n):\n",
        "  for j in range(0,i+1):\n",
        "    print(\"* \",end=\"\")\n",
        "  print(\"\\r\")\n",
        "\n",
        "for i in range(n+1,0,-1):\n",
        "  for j in range(0,i):\n",
        "    print(\"* \",end=\"\")\n",
        "  print(\"\\r\")\n"
      ],
      "metadata": {
        "colab": {
          "base_uri": "https://localhost:8080/"
        },
        "id": "gc3-E5b6p4gA",
        "outputId": "433f8b6f-f78c-4601-ebf8-7fc3627c6ac3"
      },
      "execution_count": null,
      "outputs": [
        {
          "output_type": "stream",
          "name": "stdout",
          "text": [
            "Enter number: 5\n",
            "* \n",
            "* * \n",
            "* * * \n",
            "* * * * \n",
            "* * * * * \n",
            "* * * * * * \n",
            "* * * * * \n",
            "* * * * \n",
            "* * * \n",
            "* * \n",
            "* \n"
          ]
        }
      ]
    }
  ]
}