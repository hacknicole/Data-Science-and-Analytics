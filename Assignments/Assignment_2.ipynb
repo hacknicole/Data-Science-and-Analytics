{
  "nbformat": 4,
  "nbformat_minor": 0,
  "metadata": {
    "colab": {
      "provenance": []
    },
    "kernelspec": {
      "name": "python3",
      "display_name": "Python 3"
    },
    "language_info": {
      "name": "python"
    }
  },
  "cells": [
    {
      "cell_type": "markdown",
      "source": [
        "##**Hands-On-Practice Problem 2**"
      ],
      "metadata": {
        "id": "I9vFF92PvmM3"
      }
    },
    {
      "cell_type": "markdown",
      "source": [
        "1. Write a Python program to accept a string value from the user and display\n",
        "the count of each character in that string."
      ],
      "metadata": {
        "id": "vOWgzjdhzwB3"
      }
    },
    {
      "cell_type": "code",
      "source": [
        "word = \"assembly\"\n",
        "freq = {}\n",
        "print(word)\n",
        "for i in word:\n",
        "  if i in freq:\n",
        "    freq[i] += 1\n",
        "  else:\n",
        "    freq[i] = 1\n",
        "print(str(freq))"
      ],
      "metadata": {
        "colab": {
          "base_uri": "https://localhost:8080/"
        },
        "id": "0FSPRRkX0Pqn",
        "outputId": "46c41c29-cc2f-48ba-b0b2-dc5222b6f5db"
      },
      "execution_count": 9,
      "outputs": [
        {
          "output_type": "stream",
          "name": "stdout",
          "text": [
            "assembly\n",
            "{'a': 1, 's': 2, 'e': 1, 'm': 1, 'b': 1, 'l': 1, 'y': 1}\n"
          ]
        }
      ]
    },
    {
      "cell_type": "markdown",
      "source": [
        "2. . Write a Python function to find the maximum of three numbers"
      ],
      "metadata": {
        "id": "Ojwg6vHB2WAz"
      }
    },
    {
      "cell_type": "code",
      "source": [
        "list = []\n",
        "for num in range(0,3):\n",
        "  num = int(input(\"Enter number: \"))\n",
        "  list.append(num)\n",
        "print(list)\n",
        "\n",
        "m = max(list)\n",
        "print(m)"
      ],
      "metadata": {
        "colab": {
          "base_uri": "https://localhost:8080/"
        },
        "id": "EZj0sFAb50Lk",
        "outputId": "c27fb2f3-15a6-4548-f481-e6697b6dc9d8"
      },
      "execution_count": 14,
      "outputs": [
        {
          "output_type": "stream",
          "name": "stdout",
          "text": [
            "Enter number: 34\n",
            "Enter number: 12\n",
            "Enter number: 7\n",
            "[34, 12, 7]\n",
            "34\n"
          ]
        }
      ]
    },
    {
      "cell_type": "markdown",
      "source": [
        "3. Write a Python function called exponent(base,exp) that returns an\n",
        "integer value of base raises to the power of exp."
      ],
      "metadata": {
        "id": "fz_-_5C47Kjy"
      }
    },
    {
      "cell_type": "code",
      "source": [
        "base = int(input(\"Enter base: \"))\n",
        "exp = int(input(\"Enter exponent: \"))\n",
        "result = pow(base,exp)\n",
        "print(result)"
      ],
      "metadata": {
        "colab": {
          "base_uri": "https://localhost:8080/"
        },
        "id": "iCDN0cI87WKn",
        "outputId": "c0cd75c0-d70b-4458-df2e-319185d4b6f0"
      },
      "execution_count": 15,
      "outputs": [
        {
          "output_type": "stream",
          "name": "stdout",
          "text": [
            "Enter base: 2\n",
            "Enter exponent: 3\n",
            "8\n"
          ]
        }
      ]
    },
    {
      "cell_type": "markdown",
      "source": [
        "4. Write a Python function that takes a positive integer and returns the sum\n",
        "of the cube of all the positive integers smaller than the specified number."
      ],
      "metadata": {
        "id": "MCc4TJv07_c_"
      }
    },
    {
      "cell_type": "code",
      "source": [
        "n = int(input(\"Enter number: \"))\n",
        "sum = 0\n",
        "for x in range(1,n):\n",
        "  sum += x**3\n",
        "print(sum)"
      ],
      "metadata": {
        "colab": {
          "base_uri": "https://localhost:8080/"
        },
        "id": "WYB-CE9t8Fxs",
        "outputId": "98400b30-3f7b-4038-dc12-5c01fde9fa5a"
      },
      "execution_count": 19,
      "outputs": [
        {
          "output_type": "stream",
          "name": "stdout",
          "text": [
            "Enter number: 4\n",
            "36\n"
          ]
        }
      ]
    },
    {
      "cell_type": "markdown",
      "source": [
        "5. Write a Python program which iterates from 1 to 10. For multiples of 2,\n",
        "print “Fizz” instead of the number and for the multiples of 5, print “Buzz”.\n",
        "For numbers which are multiples of both 2 and 5, print “FizzBuzz”."
      ],
      "metadata": {
        "id": "WFV6eWKZ-SwY"
      }
    },
    {
      "cell_type": "code",
      "source": [
        "print(\"numbers from 1 to 10\")\n",
        "for i in range(1,11):\n",
        "  if i % 2 == 0:\n",
        "    print(\"Fizz\")\n",
        "  elif i % 5 == 0:\n",
        "    print(\"Buzz\")\n",
        "  elif i % 2 == 0 and i % 5 == 0:\n",
        "    print(\"FizzBuzz\")\n",
        "  else:\n",
        "    print(i)"
      ],
      "metadata": {
        "colab": {
          "base_uri": "https://localhost:8080/"
        },
        "id": "Sw9A7NHQ_CZF",
        "outputId": "f156cfe6-989e-4018-b6db-8aeff324a4b4"
      },
      "execution_count": 25,
      "outputs": [
        {
          "output_type": "stream",
          "name": "stdout",
          "text": [
            "numbers from 1 to 10\n",
            "1\n",
            "Fizz\n",
            "3\n",
            "Fizz\n",
            "Buzz\n",
            "Fizz\n",
            "7\n",
            "Fizz\n",
            "9\n",
            "Fizz\n"
          ]
        }
      ]
    },
    {
      "cell_type": "markdown",
      "source": [
        "6. Write a Python program to find the most frequent item in a list of\n",
        "numbers."
      ],
      "metadata": {
        "id": "SCmdfQ8YEbHU"
      }
    },
    {
      "cell_type": "code",
      "source": [
        "list = []\n",
        "count = 0\n",
        "for num in range(0,6):\n",
        "  num = int(input(\"Enter Number:\"))\n",
        "  list.append(num)\n",
        "print(list)\n",
        "\n",
        "for number in list:\n",
        "  freq = list.count(i)\n",
        "  if(freq > count):\n",
        "    count = freq\n",
        "print(number)"
      ],
      "metadata": {
        "colab": {
          "base_uri": "https://localhost:8080/"
        },
        "id": "NZmF8BrREf_L",
        "outputId": "6b9682aa-5605-468a-be78-f4629dd4870b"
      },
      "execution_count": 27,
      "outputs": [
        {
          "output_type": "stream",
          "name": "stdout",
          "text": [
            "Enter Number:2\n",
            "Enter Number:3\n",
            "Enter Number:4\n",
            "Enter Number:2\n",
            "Enter Number:5\n",
            "Enter Number:2\n",
            "[2, 3, 4, 2, 5, 2]\n",
            "2\n"
          ]
        }
      ]
    },
    {
      "cell_type": "markdown",
      "source": [
        "7. Write a Python program to find the sum of squares of the numbers in a\n",
        "list."
      ],
      "metadata": {
        "id": "Eah7aPM2HL9_"
      }
    },
    {
      "cell_type": "code",
      "source": [
        "list = []\n",
        "sum = 0\n",
        "for num in range(0,4):\n",
        "  num = int(input(\"Enter Number: \"))\n",
        "  list.append(num)\n",
        "print(list)\n",
        "\n",
        "for x in list:\n",
        "  sum += x**2\n",
        "print(sum)"
      ],
      "metadata": {
        "colab": {
          "base_uri": "https://localhost:8080/"
        },
        "id": "75K4uCBCHWSw",
        "outputId": "3ed61c1a-e3e5-4460-a169-d364f600651e"
      },
      "execution_count": 30,
      "outputs": [
        {
          "output_type": "stream",
          "name": "stdout",
          "text": [
            "Enter Number: 2\n",
            "Enter Number: 1\n",
            "Enter Number: 3\n",
            "Enter Number: 1\n",
            "[2, 1, 3, 1]\n",
            "15\n"
          ]
        }
      ]
    },
    {
      "cell_type": "markdown",
      "source": [
        "8. Write a Python program using for loop that will iterate from 1 to 15. For\n",
        "each iteration, check if the current number is odd or even, and display the\n",
        "message to the screen as odd or even."
      ],
      "metadata": {
        "id": "q0rKKaNSI5jx"
      }
    },
    {
      "cell_type": "code",
      "source": [
        "for x in range(1,15):\n",
        "  if x % 2 == 0:\n",
        "    print(x,\"-even\")\n",
        "  else:\n",
        "    print(x,\"-odd\")"
      ],
      "metadata": {
        "colab": {
          "base_uri": "https://localhost:8080/"
        },
        "id": "vreiKwRTI9w9",
        "outputId": "022106ca-1b48-4855-d9ae-dcee1a0014ec"
      },
      "execution_count": 31,
      "outputs": [
        {
          "output_type": "stream",
          "name": "stdout",
          "text": [
            "1 -odd\n",
            "2 -even\n",
            "3 -odd\n",
            "4 -even\n",
            "5 -odd\n",
            "6 -even\n",
            "7 -odd\n",
            "8 -even\n",
            "9 -odd\n",
            "10 -even\n",
            "11 -odd\n",
            "12 -even\n",
            "13 -odd\n",
            "14 -even\n"
          ]
        }
      ]
    },
    {
      "cell_type": "markdown",
      "source": [
        "9. Write a Python program to convert temperatures to and from Celsius\n",
        "Fahrenheit. [Formula: c/5=f-32/9 where c=temperature in Celsius and f=\n",
        "temperature in Fahrenheit.]"
      ],
      "metadata": {
        "id": "ynqqFtm_I_RN"
      }
    },
    {
      "cell_type": "code",
      "source": [
        "f = int(input(\"Temperature in Fareheit: \"))\n",
        "c = int(input(\"Temperature in Celsius: \"))\n",
        "\n",
        "fah_to_cel = (f-32) * (5/9)\n",
        "cel_to_fah = c * 9/5 + 32\n",
        "\n",
        "print(\"Temperature in Celsius: \",fah_to_cel)\n",
        "print(\"Temperature in Fahrenheit: \",cel_to_fah)"
      ],
      "metadata": {
        "colab": {
          "base_uri": "https://localhost:8080/"
        },
        "id": "QxZSF7L8JCF1",
        "outputId": "21df305d-6bd3-444e-8981-a4950f949ef6"
      },
      "execution_count": 32,
      "outputs": [
        {
          "output_type": "stream",
          "name": "stdout",
          "text": [
            "Temperature in Fareheit: 41\n",
            "Temperature in Celsius: 42\n",
            "Temperature in Celsius:  5.0\n",
            "Temperature in Fahrenheit:  107.6\n"
          ]
        }
      ]
    },
    {
      "cell_type": "markdown",
      "source": [
        "10. Write a Python function to calculate the factorial of a number (a\n",
        "nonnegative integer). The function accepts the number as an argument."
      ],
      "metadata": {
        "id": "_pGLNDPhJC3l"
      }
    },
    {
      "cell_type": "code",
      "source": [
        "num = int(input(\"Enter number: \"))\n",
        "fact = 1\n",
        "for i in range(1,num + 1):\n",
        "       fact = fact*i\n",
        "print(fact)"
      ],
      "metadata": {
        "colab": {
          "base_uri": "https://localhost:8080/"
        },
        "id": "zlDvY3ixJJfj",
        "outputId": "2f0d60ea-b4b7-4a9c-932c-6ac3c4824be3"
      },
      "execution_count": 40,
      "outputs": [
        {
          "output_type": "stream",
          "name": "stdout",
          "text": [
            "Enter number: 3\n",
            "6\n"
          ]
        }
      ]
    }
  ]
}